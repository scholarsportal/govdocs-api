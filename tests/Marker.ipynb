{
 "cells": [
  {
   "cell_type": "code",
   "execution_count": 1,
   "id": "b2350afa-aef7-4f5b-ac21-29db08be5676",
   "metadata": {},
   "outputs": [],
   "source": [
    "import os\n",
    "os.environ[\"TRANSFORMERS_CACHE\"] = \"/local/home/hfurquan/myProjects/govdocs-api/models\"\n",
    "os.environ[\"HF_HOME\"] = \"/local/home/hfurquan/myProjects/govdocs-api/models\"\n",
    "os.environ[\"CUDA_VISIBLE_DEVICES\"] = \"2,3\""
   ]
  },
  {
   "cell_type": "code",
   "execution_count": 2,
   "id": "e2a8b8f2-f6b6-4632-be53-0b2e7f13b53c",
   "metadata": {},
   "outputs": [
    {
     "name": "stdout",
     "output_type": "stream",
     "text": [
      "hello\n"
     ]
    }
   ],
   "source": [
    "print(\"hello\")"
   ]
  },
  {
   "cell_type": "code",
   "execution_count": null,
   "id": "802df6c8-b1e2-4002-a5a0-759a116f651c",
   "metadata": {},
   "outputs": [
    {
     "name": "stderr",
     "output_type": "stream",
     "text": [
      "/local/home/hfurquan/myProjects/govdocs-api/govdocs/lib/python3.12/site-packages/tqdm/auto.py:21: TqdmWarning: IProgress not found. Please update jupyter and ipywidgets. See https://ipywidgets.readthedocs.io/en/stable/user_install.html\n",
      "  from .autonotebook import tqdm as notebook_tqdm\n"
     ]
    },
    {
     "name": "stdout",
     "output_type": "stream",
     "text": [
      "set HF_HOME to /local/home/hfurquan/myProjects/govdocs-api/models\n"
     ]
    },
    {
     "name": "stderr",
     "output_type": "stream",
     "text": [
      "Downloading layout model...: 100%|██████████████████████████████████████| 5/5 [00:02<00:00,  2.08it/s]\n"
     ]
    },
    {
     "name": "stdout",
     "output_type": "stream",
     "text": [
      "cache dir: /local/home/hfurquan/myProjects/govdocs-api/models\n",
      "resolved_archive_file: /local/home/hfurquan/myProjects/govdocs-api/models/layout/2025_02_18/model.safetensors\n",
      "Loaded layout model s3://layout/2025_02_18 on device cuda with dtype torch.float16\n"
     ]
    },
    {
     "name": "stderr",
     "output_type": "stream",
     "text": [
      "Downloading texify model...: 100%|██████████████████████████████████████| 9/9 [00:04<00:00,  2.13it/s]\n"
     ]
    },
    {
     "name": "stdout",
     "output_type": "stream",
     "text": [
      "cache dir: /local/home/hfurquan/myProjects/govdocs-api/models\n",
      "resolved_archive_file: /local/home/hfurquan/myProjects/govdocs-api/models/texify/2025_02_18/model.safetensors\n",
      "Loaded texify model s3://texify/2025_02_18 on device cuda with dtype torch.float16\n"
     ]
    },
    {
     "name": "stderr",
     "output_type": "stream",
     "text": [
      "Downloading text_recognition model...:   0%|                                    | 0/9 [00:00<?, ?it/s]"
     ]
    }
   ],
   "source": [
    "from marker.converters.pdf import PdfConverter\n",
    "from marker.models import create_model_dict\n",
    "from marker.config.parser import ConfigParser\n",
    "\n",
    "config = {\n",
    "    \"output_format\": \"markdown\",\n",
    "    \"ADDITIONAL_KEY\": \"VALUE\"\n",
    "}\n",
    "config_parser = ConfigParser(config)\n",
    "\n",
    "converter = PdfConverter(\n",
    "    config=config_parser.generate_config_dict(),\n",
    "    artifact_dict=create_model_dict(),\n",
    "    processor_list=config_parser.get_processors(),\n",
    "    renderer=config_parser.get_renderer(),\n",
    "    llm_service=config_parser.get_llm_service()\n",
    ")\n",
    "rendered = converter(\"FILEPATH\")"
   ]
  },
  {
   "cell_type": "code",
   "execution_count": null,
   "id": "a194eec7-0561-49bf-932a-0f9c082e73e5",
   "metadata": {},
   "outputs": [],
   "source": []
  }
 ],
 "metadata": {
  "kernelspec": {
   "display_name": "Python 3 (ipykernel)",
   "language": "python",
   "name": "python3"
  },
  "language_info": {
   "codemirror_mode": {
    "name": "ipython",
    "version": 3
   },
   "file_extension": ".py",
   "mimetype": "text/x-python",
   "name": "python",
   "nbconvert_exporter": "python",
   "pygments_lexer": "ipython3",
   "version": "3.12.9"
  }
 },
 "nbformat": 4,
 "nbformat_minor": 5
}
