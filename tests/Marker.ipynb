{
 "cells": [
  {
   "cell_type": "code",
   "execution_count": 1,
   "id": "b2350afa-aef7-4f5b-ac21-29db08be5676",
   "metadata": {},
   "outputs": [],
   "source": [
    "import os\n",
    "os.environ[\"TRANSFORMERS_CACHE\"] = \"/local/home/hfurquan/myProjects/Leaderboard/cache\"\n",
    "os.environ[\"HF_HOME\"] = \"/local/home/hfurquan/myProjects/Leaderboard/cache\"\n",
    "os.environ[\"CUDA_VISIBLE_DEVICES\"] = \"2,3\""
   ]
  },
  {
   "cell_type": "code",
   "execution_count": null,
   "id": "e2a8b8f2-f6b6-4632-be53-0b2e7f13b53c",
   "metadata": {},
   "outputs": [],
   "source": []
  }
 ],
 "metadata": {
  "kernelspec": {
   "display_name": "govdocs-api jupyter kernel",
   "language": "python",
   "name": "govdocs-api"
  },
  "language_info": {
   "codemirror_mode": {
    "name": "ipython",
    "version": 3
   },
   "file_extension": ".py",
   "mimetype": "text/x-python",
   "name": "python",
   "nbconvert_exporter": "python",
   "pygments_lexer": "ipython3",
   "version": "3.12.9"
  }
 },
 "nbformat": 4,
 "nbformat_minor": 5
}
